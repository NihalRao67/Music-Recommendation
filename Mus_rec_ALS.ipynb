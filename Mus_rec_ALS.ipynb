{
 "cells": [
  {
   "cell_type": "markdown",
   "metadata": {
    "id": "uixRc0XtrHuj"
   },
   "source": [
    "# Music Recommendation System Using PySpark"
   ]
  },
  {
   "cell_type": "markdown",
   "metadata": {
    "id": "3s9uMkbYHAgN"
   },
   "source": [
    "## Project Goal\n",
    "\n",
    "Create a Music recommendation system based on Users choice using the ALS (alternating least squares) algorithm in Pyspark."
   ]
  },
  {
   "cell_type": "code",
   "execution_count": 1,
   "metadata": {
    "colab": {
     "base_uri": "https://localhost:8080/"
    },
    "id": "U9cwMBY-Ho_r",
    "outputId": "536201fe-9c2b-4fb7-8cc4-436b190b7f5d"
   },
   "outputs": [],
   "source": [
    "#from google.colab import drive\n",
    "#drive.mount('/content/drive')"
   ]
  },
  {
   "cell_type": "code",
   "execution_count": 2,
   "metadata": {
    "colab": {
     "base_uri": "https://localhost:8080/"
    },
    "id": "qQGNxGP7IDD1",
    "outputId": "429753bb-3738-4a51-b2bc-7a4cc7803e82"
   },
   "outputs": [],
   "source": [
    "#!pip install pyspark"
   ]
  },
  {
   "cell_type": "code",
   "execution_count": 3,
   "metadata": {
    "id": "Z_cmzia9nA1W"
   },
   "outputs": [],
   "source": [
    "from pyspark.sql import SparkSession\n",
    "from pyspark.sql.functions import count, desc , col, max\n",
    "from pyspark.ml.feature import  StringIndexer\n",
    "from pyspark.ml import Pipeline\n",
    "from pyspark.ml.recommendation import ALS\n",
    "from pyspark.ml.tuning import TrainValidationSplit, ParamGridBuilder"
   ]
  },
  {
   "cell_type": "code",
   "execution_count": 4,
   "metadata": {
    "colab": {
     "base_uri": "https://localhost:8080/",
     "height": 322
    },
    "id": "gvSzI0zMn4Hk",
    "outputId": "0cfa81b4-7f5f-42f8-bd5e-e967f44b4284"
   },
   "outputs": [],
   "source": [
    "# Create a spark session\n",
    "\n",
    "spark = SparkSession.builder.appName(\"lastfm\").getOrCreate()"
   ]
  },
  {
   "cell_type": "markdown",
   "metadata": {
    "id": "KnyYdMVmnkp5"
   },
   "source": [
    "## Loading the dataset"
   ]
  },
  {
   "cell_type": "code",
   "execution_count": 5,
   "metadata": {
    "id": "PywJeVgDngVd"
   },
   "outputs": [],
   "source": [
    "# download the data set\n",
    "\n",
    "file = './listenings.csv'\n",
    "\n",
    "df_listen = spark.read.format('csv').option('header',True).option('inferSchema',True).load(file)"
   ]
  },
  {
   "cell_type": "markdown",
   "metadata": {
    "id": "YUHBP0yjoJvc"
   },
   "source": [
    "\n",
    "## Cleaning tables"
   ]
  },
  {
   "cell_type": "code",
   "execution_count": 6,
   "metadata": {
    "id": "N8luDo3HndTb"
   },
   "outputs": [
    {
     "name": "stdout",
     "output_type": "stream",
     "text": [
      "+-----------+-------------+--------------------+---------+-----------------+\n",
      "|    user_id|         date|               track|   artist|            album|\n",
      "+-----------+-------------+--------------------+---------+-----------------+\n",
      "|000Silenced|1299680100000|           Price Tag| Jessie J|      Who You Are|\n",
      "|000Silenced|1299679920000|Price Tag (Acoust...| Jessie J|        Price Tag|\n",
      "|000Silenced|1299679440000|Be Mine! (Ballad ...|    Robyn|         Be Mine!|\n",
      "|000Silenced|1299679200000|            Acapella|    Kelis|         Acapella|\n",
      "|000Silenced|1299675660000|   I'm Not Invisible|The Tease|I'm Not Invisible|\n",
      "+-----------+-------------+--------------------+---------+-----------------+\n",
      "only showing top 5 rows\n",
      "\n"
     ]
    }
   ],
   "source": [
    "df_listen.show(5)"
   ]
  },
  {
   "cell_type": "code",
   "execution_count": 7,
   "metadata": {
    "id": "5rDadwmpowII"
   },
   "outputs": [
    {
     "name": "stdout",
     "output_type": "stream",
     "text": [
      "+-----------+--------------------+---------+-----------------+\n",
      "|    user_id|               track|   artist|            album|\n",
      "+-----------+--------------------+---------+-----------------+\n",
      "|000Silenced|           Price Tag| Jessie J|      Who You Are|\n",
      "|000Silenced|Price Tag (Acoust...| Jessie J|        Price Tag|\n",
      "|000Silenced|Be Mine! (Ballad ...|    Robyn|         Be Mine!|\n",
      "|000Silenced|            Acapella|    Kelis|         Acapella|\n",
      "|000Silenced|   I'm Not Invisible|The Tease|I'm Not Invisible|\n",
      "+-----------+--------------------+---------+-----------------+\n",
      "only showing top 5 rows\n",
      "\n"
     ]
    }
   ],
   "source": [
    "df_listen = df_listen.drop('date')\n",
    "df_listen = df_listen.na.drop() # remove nan values\n",
    "df_listen.show(5)"
   ]
  },
  {
   "cell_type": "code",
   "execution_count": 8,
   "metadata": {
    "id": "UZr0ZxOVIYr9"
   },
   "outputs": [
    {
     "data": {
      "text/plain": [
       "['user_id', 'track', 'artist', 'album']"
      ]
     },
     "execution_count": 8,
     "metadata": {},
     "output_type": "execute_result"
    }
   ],
   "source": [
    "df_listen.columns"
   ]
  },
  {
   "cell_type": "code",
   "execution_count": 9,
   "metadata": {
    "id": "ERO8bdWSHAgZ"
   },
   "outputs": [
    {
     "data": {
      "text/plain": [
       "13758905"
      ]
     },
     "execution_count": 9,
     "metadata": {},
     "output_type": "execute_result"
    }
   ],
   "source": [
    "df_listen.count()"
   ]
  },
  {
   "cell_type": "markdown",
   "metadata": {
    "id": "cyf1XITGpMWV"
   },
   "source": [
    "\n",
    "# Aggregations\n",
    "to see how many times each user has listened to specific track\n"
   ]
  },
  {
   "cell_type": "code",
   "execution_count": 10,
   "metadata": {
    "id": "PeH7vYKEoyWa"
   },
   "outputs": [
    {
     "name": "stdout",
     "output_type": "stream",
     "text": [
      "+-------+--------------------+-----+\n",
      "|user_id|               track|count|\n",
      "+-------+--------------------+-----+\n",
      "| --Seph|             Andante|    1|\n",
      "| --Seph|Airplanes [feat H...|    1|\n",
      "| --Seph|           2 and 2=5|    1|\n",
      "| --Seph|Belina (Original ...|    1|\n",
      "| --Seph|                0040|    1|\n",
      "| --Seph|  California Waiting|    1|\n",
      "| --Seph|        5 Years Time|    1|\n",
      "| --Seph|      Hour for magic|    2|\n",
      "| --Seph|             401 Lwa|    2|\n",
      "| --Seph|Hungarian Dance No 5|    1|\n",
      "| --Seph|         Agoraphobia|    1|\n",
      "| --Seph|Hungarian Rhapsod...|    1|\n",
      "| --Seph|        After Nature|    1|\n",
      "| --Seph|       Life On Mars?|    1|\n",
      "| --Seph|       Amazing Grace|    1|\n",
      "| --Seph|              Monday|    1|\n",
      "| --Seph| Air on the G String|    1|\n",
      "| --Seph|       Phantom Pt II|    1|\n",
      "| --Seph|   Duel of the Fates|    1|\n",
      "| --Seph|   Summa for Strings|    1|\n",
      "+-------+--------------------+-----+\n",
      "only showing top 20 rows\n",
      "\n"
     ]
    }
   ],
   "source": [
    "from pyspark.sql.functions import count\n",
    "\n",
    "# Aggregate and count occurrences of each combination of 'user_id' and 'track'\n",
    "df_listen_agg = df_listen.select('user_id', 'track') \\\n",
    "    .groupby('user_id', 'track') \\\n",
    "    .agg(count('*').alias('count')) \\\n",
    "    .orderBy('user_id')\n",
    "\n",
    "df_listen_agg = df_listen_agg.na.drop()\n",
    "\n",
    "# Show the aggregated DataFrame\n",
    "df_listen_agg.show()"
   ]
  },
  {
   "cell_type": "code",
   "execution_count": 11,
   "metadata": {
    "id": "RhVz-SvapIyr"
   },
   "outputs": [
    {
     "data": {
      "text/plain": [
       "9930128"
      ]
     },
     "execution_count": 11,
     "metadata": {},
     "output_type": "execute_result"
    }
   ],
   "source": [
    "df_listen_agg.count()"
   ]
  },
  {
   "cell_type": "markdown",
   "metadata": {
    "id": "vuebvg7UqzsO"
   },
   "source": [
    "## Convert the user id and track columns into unique integers\n",
    "\n",
    "\n"
   ]
  },
  {
   "cell_type": "code",
   "execution_count": 12,
   "metadata": {
    "id": "F9RSpj3DN6aX"
   },
   "outputs": [],
   "source": [
    "# limit the data set since it has around a million rows to 1000 rows\n",
    "\n",
    "df_listen_agg = df_listen_agg.limit(10000)"
   ]
  },
  {
   "cell_type": "code",
   "execution_count": 13,
   "metadata": {
    "id": "efL-hiR-q-AO"
   },
   "outputs": [
    {
     "name": "stdout",
     "output_type": "stream",
     "text": [
      "+-------+--------------------+-----+-------------+-----------+\n",
      "|user_id|               track|count|user_id_index|track_index|\n",
      "+-------+--------------------+-----+-------------+-----------+\n",
      "| --Seph| Air on the G String|    1|         34.0|      981.0|\n",
      "| --Seph|Belina (Original ...|    1|         34.0|     1448.0|\n",
      "| --Seph|  California Waiting|    1|         34.0|      176.0|\n",
      "| --Seph|      Hour for magic|    2|         34.0|     3807.0|\n",
      "| --Seph|Hungarian Dance No 5|    1|         34.0|     3844.0|\n",
      "+-------+--------------------+-----+-------------+-----------+\n",
      "only showing top 5 rows\n",
      "\n"
     ]
    }
   ],
   "source": [
    "indexer = [StringIndexer(inputCol=col, outputCol=col+'_index').fit(df_listen_agg) for col in ['user_id','track']]\n",
    "pipeline = Pipeline(stages=indexer)\n",
    "\n",
    "data=  pipeline.fit(df_listen_agg).transform(df_listen_agg)\n",
    "\n",
    "data = data.na.drop()\n",
    "data.show(5)"
   ]
  },
  {
   "cell_type": "code",
   "execution_count": 14,
   "metadata": {
    "id": "B5s3A95vHAgd"
   },
   "outputs": [
    {
     "data": {
      "text/plain": [
       "['user_id', 'track', 'count', 'user_id_index', 'track_index']"
      ]
     },
     "execution_count": 14,
     "metadata": {},
     "output_type": "execute_result"
    }
   ],
   "source": [
    "data.columns"
   ]
  },
  {
   "cell_type": "code",
   "execution_count": 15,
   "metadata": {
    "id": "OfKtj2ojrKae"
   },
   "outputs": [
    {
     "name": "stdout",
     "output_type": "stream",
     "text": [
      "+-------------+-----------+-----+\n",
      "|user_id_index|track_index|count|\n",
      "+-------------+-----------+-----+\n",
      "|         34.0|      981.0|    1|\n",
      "|         34.0|     1448.0|    1|\n",
      "|         34.0|      176.0|    1|\n",
      "|         34.0|     3807.0|    2|\n",
      "|         34.0|     3844.0|    1|\n",
      "+-------------+-----------+-----+\n",
      "only showing top 5 rows\n",
      "\n"
     ]
    }
   ],
   "source": [
    "df = data.select('user_id_index','track_index','count').orderBy('user_id')\n",
    "df = df.na.drop()\n",
    "df.show(5)"
   ]
  },
  {
   "cell_type": "markdown",
   "metadata": {
    "id": "IEwviAxXsHwN"
   },
   "source": [
    "# Train and Test data"
   ]
  },
  {
   "cell_type": "code",
   "execution_count": 24,
   "metadata": {
    "id": "DRgu2p-PsYUw"
   },
   "outputs": [],
   "source": [
    "# Perform a 70-30 split\n",
    "(train, test) = df.randomSplit([0.7, 0.3], seed = 2)\n"
   ]
  },
  {
   "cell_type": "code",
   "execution_count": 25,
   "metadata": {
    "id": "3EUNXqDqHAge"
   },
   "outputs": [
    {
     "data": {
      "text/plain": [
       "['user_id_index', 'track_index', 'count']"
      ]
     },
     "execution_count": 25,
     "metadata": {},
     "output_type": "execute_result"
    }
   ],
   "source": [
    "df.columns"
   ]
  },
  {
   "cell_type": "code",
   "execution_count": 26,
   "metadata": {
    "id": "f-S9CQPEHAge"
   },
   "outputs": [
    {
     "name": "stdout",
     "output_type": "stream",
     "text": [
      "+-------------+-----------+-----+\n",
      "|user_id_index|track_index|count|\n",
      "+-------------+-----------+-----+\n",
      "|          0.0|       11.0|    1|\n",
      "|          0.0|       18.0|    1|\n",
      "|          0.0|       39.0|    1|\n",
      "|          0.0|       41.0|    1|\n",
      "|          0.0|      175.0|    2|\n",
      "|          0.0|      244.0|    1|\n",
      "|          0.0|      390.0|    1|\n",
      "|          0.0|      462.0|    1|\n",
      "|          0.0|      509.0|    1|\n",
      "|          0.0|      553.0|    1|\n",
      "+-------------+-----------+-----+\n",
      "only showing top 10 rows\n",
      "\n"
     ]
    }
   ],
   "source": [
    "train.show(10)"
   ]
  },
  {
   "cell_type": "code",
   "execution_count": 27,
   "metadata": {
    "id": "aO4gdbHtJsf9"
   },
   "outputs": [
    {
     "name": "stdout",
     "output_type": "stream",
     "text": [
      "+-------------+-----------+-----+\n",
      "|user_id_index|track_index|count|\n",
      "+-------------+-----------+-----+\n",
      "|          0.0|      155.0|    1|\n",
      "|          0.0|      431.0|    1|\n",
      "|          0.0|      732.0|    1|\n",
      "|          0.0|      782.0|    1|\n",
      "|          0.0|      977.0|    1|\n",
      "|          0.0|     1124.0|    1|\n",
      "|          0.0|     1190.0|    1|\n",
      "|          0.0|     1203.0|    1|\n",
      "|          0.0|     1227.0|    1|\n",
      "|          0.0|     1291.0|    1|\n",
      "+-------------+-----------+-----+\n",
      "only showing top 10 rows\n",
      "\n"
     ]
    }
   ],
   "source": [
    "test.show(10)"
   ]
  },
  {
   "cell_type": "markdown",
   "metadata": {
    "id": "M46wV6Gusdi5"
   },
   "source": [
    "## Create ALS Model"
   ]
  },
  {
   "cell_type": "code",
   "execution_count": 20,
   "metadata": {
    "id": "bwPk25M3sfRu"
   },
   "outputs": [],
   "source": [
    "als = ALS(maxIter=5, regParam=0.01, userCol='user_id_index', itemCol='track_index', ratingCol='count')\n"
   ]
  },
  {
   "cell_type": "code",
   "execution_count": 21,
   "metadata": {
    "id": "vQnci1CnHAgf"
   },
   "outputs": [],
   "source": [
    "model = als.fit(train)\n",
    "\n",
    "pred = model.transform(test)\n"
   ]
  },
  {
   "cell_type": "markdown",
   "metadata": {
    "id": "lqBkLowzsoj8"
   },
   "source": [
    "\n",
    "# Generate top 10 Track recommendations for each user"
   ]
  },
  {
   "cell_type": "code",
   "execution_count": 22,
   "metadata": {
    "id": "00mtv7XUsZGg"
   },
   "outputs": [
    {
     "name": "stdout",
     "output_type": "stream",
     "text": [
      "+-------------+--------------------+\n",
      "|user_id_index|     recommendations|\n",
      "+-------------+--------------------+\n",
      "|           20|[{1286, 6.159645}...|\n",
      "|           40|[{310, 6.5270967}...|\n",
      "|           10|[{7197, 5.062258}...|\n",
      "|           50|[{992, 6.1635942}...|\n",
      "|           70|[{8233, 23.012083...|\n",
      "|           60|[{6824, 10.988994...|\n",
      "|           30|[{7197, 6.483232}...|\n",
      "|            0|[{4889, 8.662129}...|\n",
      "|           31|[{76, 5.7290225},...|\n",
      "|            1|[{5920, 4.9742584...|\n",
      "+-------------+--------------------+\n",
      "only showing top 10 rows\n",
      "\n"
     ]
    }
   ],
   "source": [
    "recs = model.recommendForAllUsers(10)\n",
    "\n",
    "recs.show(10)"
   ]
  },
  {
   "cell_type": "code",
   "execution_count": 30,
   "metadata": {
    "id": "e1ezhNRGHAgg"
   },
   "outputs": [],
   "source": [
    "rec_user_1 = recs.take(1)"
   ]
  },
  {
   "cell_type": "code",
   "execution_count": 31,
   "metadata": {},
   "outputs": [
    {
     "name": "stdout",
     "output_type": "stream",
     "text": [
      "All Track IDs: [1286, 3532, 9074, 5563, 4278, 6824, 7473, 7197, 6949, 3530]\n"
     ]
    }
   ],
   "source": [
    "all_track_ids = []\n",
    "\n",
    "# Iterate over each row in the list of recommendations data\n",
    "for row in rec_user_1:\n",
    "    recommendations = row.recommendations\n",
    "    \n",
    "    # Iterate over each recommendation for the current user\n",
    "    for recommendation in recommendations:\n",
    "        track_index = recommendation.track_index\n",
    "        \n",
    "        # Append the track index to the list of track IDs\n",
    "        all_track_ids.append(track_index)\n",
    "\n",
    "# Print the list of all track IDs\n",
    "print(\"All Track IDs:\", all_track_ids)"
   ]
  },
  {
   "cell_type": "code",
   "execution_count": 32,
   "metadata": {},
   "outputs": [],
   "source": [
    "track_index_to_name = {}\n",
    "\n",
    "# Iterate over the unique track indices in the DataFrame 'data'\n",
    "for row in data.select('track_index', 'track').distinct().collect():\n",
    "    track_index_to_name[row['track_index']] = row['track']\n",
    "\n",
    "# Define a function to get track name for a given track index\n",
    "def get_track_name(track_index):\n",
    "    return track_index_to_name.get(track_index, None)"
   ]
  },
  {
   "cell_type": "code",
   "execution_count": 37,
   "metadata": {},
   "outputs": [
    {
     "name": "stdout",
     "output_type": "stream",
     "text": [
      "The 10 highly recommended songs for the user are :\n",
      "1 Away From Here\n",
      "2 Had Enough\n",
      "3 You're Not Alone\n",
      "4 No Rain\n",
      "5 It's Not OK\n",
      "6 Shrouded in Blinding Light\n",
      "7 Technodanceaphobic\n",
      "8 Steer the Canyon\n",
      "9 Small Things\n",
      "10 Habits (Stay High)\n"
     ]
    }
   ],
   "source": [
    "trk_idx = all_track_ids\n",
    "\n",
    "tn_list = []\n",
    "for idx in trk_idx:\n",
    "    tn = get_track_name(idx)\n",
    "    tn_list.append(tn)\n",
    "    \n",
    "\n",
    "print('The 10 highly recommended songs for the user are :')\n",
    "for i,n in enumerate(tn_list):\n",
    "    print(i+1,n)"
   ]
  }
 ],
 "metadata": {
  "colab": {
   "provenance": []
  },
  "kernelspec": {
   "display_name": "Python 3 (ipykernel)",
   "language": "python",
   "name": "python3"
  },
  "language_info": {
   "codemirror_mode": {
    "name": "ipython",
    "version": 3
   },
   "file_extension": ".py",
   "mimetype": "text/x-python",
   "name": "python",
   "nbconvert_exporter": "python",
   "pygments_lexer": "ipython3",
   "version": "3.11.5"
  }
 },
 "nbformat": 4,
 "nbformat_minor": 4
}
